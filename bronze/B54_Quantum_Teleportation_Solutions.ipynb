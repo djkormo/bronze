{
 "cells": [
  {
   "cell_type": "markdown",
   "metadata": {},
   "source": [
    "<table width=\"100%\"> <tr>\n",
    "        <td  style=\"background-color:#ffffff;\">\n",
    "            <a href=\"http://qworld.lu.lv\" target=\"_blank\"><img src=\"../images/qworld.jpg\" width=\"35%\" align=\"left\"> </a></td>\n",
    "        <td style=\"background-color:#ffffff;vertical-align:bottom;text-align:right;\">\n",
    "            prepared by Abuzer Yakaryilmaz (<a href=\"http://qworld.lu.lv/index.php/qlatvia/\" target=\"_blank\">QLatvia</a>)\n",
    "            <br>\n",
    "            updated by Melis Pahalı | December 5, 2019\n",
    "            <br>\n",
    "            updated by Özlem Salehi | September 17, 2020\n",
    "        </td>        \n",
    "</tr></table>"
   ]
  },
  {
   "cell_type": "markdown",
   "metadata": {},
   "source": [
    "<table width=\"100%\"><tr><td style=\"color:#bbbbbb;background-color:#ffffff;font-size:11px;font-style:italic;text-align:right;\">This cell contains some macros. If there is a problem with displaying mathematical formulas, please run this cell to load these macros. </td></tr></table>\n",
    "$ \\newcommand{\\bra}[1]{\\langle #1|} $\n",
    "$ \\newcommand{\\ket}[1]{|#1\\rangle} $\n",
    "$ \\newcommand{\\braket}[2]{\\langle #1|#2\\rangle} $\n",
    "$ \\newcommand{\\dot}[2]{ #1 \\cdot #2} $\n",
    "$ \\newcommand{\\biginner}[2]{\\left\\langle #1,#2\\right\\rangle} $\n",
    "$ \\newcommand{\\mymatrix}[2]{\\left( \\begin{array}{#1} #2\\end{array} \\right)} $\n",
    "$ \\newcommand{\\myvector}[1]{\\mymatrix{c}{#1}} $\n",
    "$ \\newcommand{\\myrvector}[1]{\\mymatrix{r}{#1}} $\n",
    "$ \\newcommand{\\mypar}[1]{\\left( #1 \\right)} $\n",
    "$ \\newcommand{\\mybigpar}[1]{ \\Big( #1 \\Big)} $\n",
    "$ \\newcommand{\\sqrttwo}{\\frac{1}{\\sqrt{2}}} $\n",
    "$ \\newcommand{\\dsqrttwo}{\\dfrac{1}{\\sqrt{2}}} $\n",
    "$ \\newcommand{\\onehalf}{\\frac{1}{2}} $\n",
    "$ \\newcommand{\\donehalf}{\\dfrac{1}{2}} $\n",
    "$ \\newcommand{\\hadamard}{ \\mymatrix{rr}{ \\sqrttwo & \\sqrttwo \\\\ \\sqrttwo & -\\sqrttwo }} $\n",
    "$ \\newcommand{\\vzero}{\\myvector{1\\\\0}} $\n",
    "$ \\newcommand{\\vone}{\\myvector{0\\\\1}} $\n",
    "$ \\newcommand{\\vhadamardzero}{\\myvector{ \\sqrttwo \\\\  \\sqrttwo } } $\n",
    "$ \\newcommand{\\vhadamardone}{ \\myrvector{ \\sqrttwo \\\\ -\\sqrttwo } } $\n",
    "$ \\newcommand{\\myarray}[2]{ \\begin{array}{#1}#2\\end{array}} $\n",
    "$ \\newcommand{\\X}{ \\mymatrix{cc}{0 & 1 \\\\ 1 & 0}  } $\n",
    "$ \\newcommand{\\Z}{ \\mymatrix{rr}{1 & 0 \\\\ 0 & -1}  } $\n",
    "$ \\newcommand{\\Htwo}{ \\mymatrix{rrrr}{ \\frac{1}{2} & \\frac{1}{2} & \\frac{1}{2} & \\frac{1}{2} \\\\ \\frac{1}{2} & -\\frac{1}{2} & \\frac{1}{2} & -\\frac{1}{2} \\\\ \\frac{1}{2} & \\frac{1}{2} & -\\frac{1}{2} & -\\frac{1}{2} \\\\ \\frac{1}{2} & -\\frac{1}{2} & -\\frac{1}{2} & \\frac{1}{2} } } $\n",
    "$ \\newcommand{\\CNOT}{ \\mymatrix{cccc}{1 & 0 & 0 & 0 \\\\ 0 & 1 & 0 & 0 \\\\ 0 & 0 & 0 & 1 \\\\ 0 & 0 & 1 & 0} } $\n",
    "$ \\newcommand{\\norm}[1]{ \\left\\lVert #1 \\right\\rVert } $"
   ]
  },
  {
   "cell_type": "markdown",
   "metadata": {},
   "source": [
    "<h2> <font color=\"blue\"> Solutions for </font>Quantum Teleportation</h2>"
   ]
  },
  {
   "cell_type": "markdown",
   "metadata": {},
   "source": [
    "<a id=\"task1\"></a>\n",
    "<h3> Task 1 </h3>\n",
    "\n",
    "Calculate the new quantum state after this CNOT operator."
   ]
  },
  {
   "cell_type": "markdown",
   "metadata": {},
   "source": [
    "<h3>Solution</h3>"
   ]
  },
  {
   "cell_type": "markdown",
   "metadata": {},
   "source": [
    "The state before CNOT is $ \\sqrttwo \\big( a\\ket{000} + a \\ket{011} + b\\ket{100} + b \\ket{111} \\big) $."
   ]
  },
  {
   "cell_type": "markdown",
   "metadata": {},
   "source": [
    "CNOT(first_qubit,second_qubit) is applied.\n",
    "\n",
    "If the value of the first qubit is 1, then the value of the second qubit is flipped.\n",
    "\n",
    "Thus, the new quantum state after this CNOT is\n",
    "\n",
    "$$ \\sqrttwo \\big( a\\ket{000} + a \\ket{011} + b\\ket{110} + b \\ket{101} \\big). $$"
   ]
  },
  {
   "cell_type": "markdown",
   "metadata": {},
   "source": [
    "<a id=\"task2\"></a>\n",
    "<h3> Task 2 </h3>\n",
    "\n",
    "Calculate the new quantum state after this Hadamard operator.\n",
    "\n",
    "Verify that the resulting quantum state can be written as follows:\n",
    "\n",
    "$$  \n",
    "    \\frac{1}{2} \\ket{00} \\big( a\\ket{0}+b\\ket{1} \\big) +\n",
    "    \\frac{1}{2} \\ket{01} \\big( a\\ket{1}+b\\ket{0} \\big) +\n",
    "    \\frac{1}{2} \\ket{10} \\big( a\\ket{0}-b\\ket{1} \\big) +\n",
    "    \\frac{1}{2} \\ket{11} \\big( a\\ket{1}-b\\ket{0} \\big) .\n",
    "$$"
   ]
  },
  {
   "cell_type": "markdown",
   "metadata": {},
   "source": [
    "<h3>Solution</h3>"
   ]
  },
  {
   "cell_type": "markdown",
   "metadata": {},
   "source": [
    "The state before Hadamard is $ \\sqrttwo \\big( a\\ket{000} + a \\ket{011} + b\\ket{110} + b \\ket{101} \\big). $\n",
    "\n",
    "The effect of Hadamard to the first qubit is given below:\n",
    "\n",
    "$ H \\ket{0yz} \\rightarrow \\sqrttwo \\ket{0yz} + \\sqrttwo \\ket{1yz} $\n",
    "\n",
    "$ H \\ket{1yz} \\rightarrow \\sqrttwo \\ket{0yz} - \\sqrttwo \\ket{1yz} $\n",
    "\n",
    "For each triple $ \\ket{xyz} $ in the quantum state, we apply this transformation:"
   ]
  },
  {
   "cell_type": "markdown",
   "metadata": {},
   "source": [
    "$ \n",
    "    \\frac{1}{2} \\big( a\\ket{000} + a\\ket{100} \\big) + \n",
    "    \\frac{1}{2} \\big( a\\ket{011} + a\\ket{111} \\big) + \n",
    "    \\frac{1}{2} \\big( b\\ket{010} - b\\ket{110} \\big) + \n",
    "    \\frac{1}{2} \\big( b\\ket{001} - b\\ket{101} \\big) .\n",
    "$"
   ]
  },
  {
   "cell_type": "markdown",
   "metadata": {},
   "source": [
    "We can rearrange the summation so that we can separate Asja's qubit from the Balvis' qubit:\n",
    "\n",
    "$ \n",
    "    \\frac{1}{2} \\big( a\\ket{000}+b\\ket{001} \\big) +  \n",
    "    \\frac{1}{2} \\big( a\\ket{011}+b\\ket{010} \\big) +  \n",
    "    \\frac{1}{2} \\big( a\\ket{100} - b\\ket{101} \\big) + \n",
    "    \\frac{1}{2} \\big( a\\ket{111}- b\\ket{110} \\big)  $."
   ]
  },
  {
   "cell_type": "markdown",
   "metadata": {},
   "source": [
    "This is equivalent to\n",
    "\n",
    "$$  \n",
    "    \\frac{1}{2} \\ket{00} \\big( a\\ket{0}+b\\ket{1} \\big) +\n",
    "    \\frac{1}{2} \\ket{01} \\big( a\\ket{1}+b\\ket{0} \\big) +\n",
    "    \\frac{1}{2} \\ket{10} \\big( a\\ket{0}-b\\ket{1} \\big) +\n",
    "    \\frac{1}{2} \\ket{11} \\big( a\\ket{1}-b\\ket{0} \\big) .\n",
    "$$"
   ]
  },
  {
   "cell_type": "markdown",
   "metadata": {},
   "source": [
    "<a id=\"task3\"></a>\n",
    "<h3> Task 3 </h3>\n",
    "\n",
    "Asja sends the measurement outcomes to Balvis by using two classical bits: $ x $ and $ y $. \n",
    "\n",
    "For each $ (x,y) $ pair, determine the quantum operator(s) that Balvis can apply to obtain $ \\ket{v} = a\\ket{0}+b\\ket{1} $ exactly."
   ]
  },
  {
   "cell_type": "markdown",
   "metadata": {},
   "source": [
    "<h3>Solution</h3>"
   ]
  },
  {
   "cell_type": "markdown",
   "metadata": {},
   "source": [
    "<b>Measurement outcome \"00\":</b> The state of Balvis' qubit is $ a\\ket{0}+b\\ket{1} $. \n",
    "\n",
    "Balvis does not need to apply any extra operation.\n",
    "\n",
    "<b>Measurement outcome \"01\":</b> The state of Balvis' qubit is $ a\\ket{1}+b\\ket{0} $. \n",
    "\n",
    "If Balvis applies <u>NOT operator</u>, then the state becomes: $ a\\ket{0}+b\\ket{1} $.\n",
    "\n",
    "<b>Measurement outcome \"10\":</b> The state of Balvis' qubit is $ a\\ket{0}-b\\ket{1} $. \n",
    "\n",
    "If Balvis applies <u>Z operator</u>, then the state becomes: $ a\\ket{0}+b\\ket{1} $.\n",
    "\n",
    "<b>Measurement outcome \"11\":</b> The state of Balvis' qubit is $ a\\ket{1}-b\\ket{0} $. \n",
    "\n",
    "If Balvis applies <u>NOT operator</u> and <u>Z operator</u>, then the state becomes: $ a\\ket{0}+b\\ket{1} $."
   ]
  },
  {
   "cell_type": "markdown",
   "metadata": {},
   "source": [
    "<a id=\"task4\"></a>\n",
    "<h3> Task 4 </h3>\n",
    "\n",
    "Create a quantum circuit with three qubits and two classical bits.\n",
    "\n",
    "Assume that Asja has the first two qubits and Balvis has the third qubit. \n",
    "\n",
    "Implement the protocol given above until Balvis makes the measurement.\n",
    "<ul>\n",
    "    <li>Create entanglement between Asja's second qubit and Balvis' qubit.</li>\n",
    "    <li>The state of Asja's first qubit can be initialized to a randomly picked angle.</li>\n",
    "    <li>Asja applies CNOT and Hadamard operators to her qubits.</li>\n",
    "    <li>Asja measures her own qubits and the results are stored in the classical registers. </li>\n",
    "</ul>\n",
    "\n",
    "At this point, read the state vector of the circuit by using \"statevector_simulator\". \n",
    "\n",
    "<i> When a circuit having measurement is simulated by \"statevector_simulator\", the simulator picks one of the outcomes, and so we see one of the states after the measurement.</i>\n",
    "\n",
    "Verify that the state of Balvis' qubit is in one of these: $ \\ket{v_{00}}$, $ \\ket{v_{01}}$, $ \\ket{v_{10}}$, and $ \\ket{v_{11}}$.\n",
    "\n",
    "<i> Follow the Qiskit order. That is, let qreg[2] be Asja's first qubit, qreg[1] be Asja's second qubit and let qreg[0] be Balvis' qubit.</i>"
   ]
  },
  {
   "cell_type": "markdown",
   "metadata": {},
   "source": [
    "<h3>Solution</h3>"
   ]
  },
  {
   "cell_type": "code",
   "execution_count": 20,
   "metadata": {},
   "outputs": [
    {
     "data": {
      "image/png": "[encoded data removed]",
      "text/plain": [
       "<Figure size 862.064x264.88 with 1 Axes>"
      ]
     },
     "execution_count": 20,
     "metadata": {},
     "output_type": "execute_result"
    }
   ],
   "source": [
    "from qiskit import QuantumCircuit,QuantumRegister,ClassicalRegister,execute,Aer\n",
    "from random import randrange\n",
    "from math import sin,cos,pi\n",
    "\n",
    "# We start with 3 quantum registers\n",
    "# qreg[2]: Asja's first qubit - qubit to be teleported\n",
    "# qreg[1]: Asja's second qubit\n",
    "# qreg[0]: Balvis' qubit\n",
    "\n",
    "qreg=QuantumRegister(3)\n",
    "creg=ClassicalRegister(2) #Classical register with 2 qubits is enough\n",
    "qcir=QuantumCircuit(qreg,creg)\n",
    "\n",
    "# Generation of the entangled state.\n",
    "# Asja's second qubit is entangled with Balvis' qubit.\n",
    "qcir.h(qreg[1])\n",
    "qcir.cx(qreg[1],qreg[0])\n",
    "qcir.barrier()\n",
    "\n",
    "# We create a random qubit to teleport.\n",
    "# We pick a random angle.\n",
    "d=randrange(360) \n",
    "r=2*pi*d/360\n",
    "print(\"Picked angle is \"+str(d)+\" degrees, \"+str(round(r,2))+\" radians.\")\n",
    "\n",
    "# The amplitudes of the angle.\n",
    "x=cos(r)\n",
    "y=sin(r)\n",
    "print(\"cos component of the angle: \"+str(round(x,2))+\", sin component of the angle: \"+str(round(y,2)))\n",
    "print(\"So to be teleported state is \"+str(round(x,2))+\"|0>+\"+str(round(y,2))+\"|1>.\")\n",
    "\n",
    "#Asja's qubit to be teleported\n",
    "# Generation of random qubit by rotating the quantum register at the amount of picked angle.\n",
    "qcir.ry(2*r,qreg[2])\n",
    "qcir.barrier()\n",
    "\n",
    "#CNOT operator by Asja where first qubit is the control and second qubit is the target\n",
    "qcir.cx(qreg[2],qreg[1])\n",
    "qcir.barrier()\n",
    "\n",
    "#Hadamard operator by Asja on her first qubit\n",
    "qcir.h(qreg[2])\n",
    "qcir.barrier()\n",
    "\n",
    "#Measurement by Asja stored in classical registers\n",
    "qcir.measure(qreg[1],creg[0])\n",
    "qcir.measure(qreg[2],creg[1])\n",
    "print()\n",
    "\n",
    "result=execute(qcir,Aer.get_backend('statevector_simulator'),optimization_level=0).result()\n",
    "print(\"When you use statevector_simulator, one of the possible outcomes is picked randomly. Classical registers contain:\")\n",
    "print(result.get_counts()) \n",
    "print()\n",
    "\n",
    "print(\"The final statevector.\")\n",
    "v=result.get_statevector()\n",
    "for i in range(len(v)):\n",
    "    print(v[i].real)\n",
    "print()\n",
    "\n",
    "qcir.draw(output='mpl')"
   ]
  },
  {
   "cell_type": "markdown",
   "metadata": {},
   "source": [
    "<a id=\"task5\"></a>\n",
    "<h3> Task 5 </h3>\n",
    "\n",
    "Implement the protocol above by including the post-processing part done by Balvis, i.e., the measurement results by Asja are sent to Balvis and then he may apply $ X $ or $ Z $ gates depending on the measurement results.\n",
    "\n",
    "We use the classically controlled quantum operators. \n",
    "\n",
    "Since we do not make measurement on $ q[2] $, we define only 2 classical bits, each of which can also be defined separated.\n",
    "\n",
    "```python\n",
    "q = QuantumRegister(3)\n",
    "c2 = ClassicalRegister(1,'c2')\n",
    "c1 = ClassicalRegister(1,'c1')\n",
    "qc = QuantumCircuit(q,c1,c2)\n",
    "...\n",
    "qc.measure(q[1],c1)\n",
    "...\n",
    "qc.x(q[0]).c_if(c1,1) # x-gate is applied to q[0] if the classical bit c1 is equal to 1\n",
    "```\n",
    "\n",
    "Read the state vector and verify that Balvis' state is $ \\myvector{a \\\\ b} $ after the post-processing."
   ]
  },
  {
   "cell_type": "markdown",
   "metadata": {},
   "source": [
    "<h3>Solution</h3>"
   ]
  },
  {
   "cell_type": "markdown",
   "metadata": {},
   "source": [
    "<i>Classically controlled</i> recovery operations are also added as follows. Below, the state vector is used to confirm that quantum teleportation is completed."
   ]
  },
  {
   "cell_type": "code",
   "execution_count": null,
   "metadata": {
    "scrolled": true
   },
   "outputs": [],
   "source": [
    "from qiskit import QuantumCircuit,QuantumRegister,ClassicalRegister,execute,Aer\n",
    "from random import randrange\n",
    "from math import sin,cos,pi\n",
    "\n",
    "# We start with 3 quantum registers\n",
    "# qreg[2]: Asja's first qubit - qubit to be teleported\n",
    "# qreg[1]: Asja's second qubit\n",
    "# qreg[0]: Balvis' qubit\n",
    "\n",
    "qreg=QuantumRegister(3)\n",
    "c1=ClassicalRegister(1)\n",
    "c2=ClassicalRegister(1)\n",
    "qcir=QuantumCircuit(qreg,c1,c2)\n",
    "\n",
    "# Generation of the entangled state.\n",
    "# Asja's second qubit is entangled with Balvis' qubit.\n",
    "qcir.h(qreg[1])\n",
    "qcir.cx(qreg[1],qreg[0])\n",
    "qcir.barrier()\n",
    "\n",
    "# We create a random qubit to teleport.\n",
    "# We pick a random angle.\n",
    "d=randrange(360) \n",
    "r=2*pi*d/360\n",
    "print(\"Picked angle is \"+str(d)+\" degrees, \"+str(round(r,2))+\" radians.\")\n",
    "\n",
    "# The amplitudes of the angle.\n",
    "x=cos(r)\n",
    "y=sin(r)\n",
    "print(\"Cos component of the angle: \"+str(round(x,2))+\", sin component of the angle: \"+str(round(y,2)))\n",
    "print(\"So to be teleported state is \"+str(round(x,2))+\"|0>+\"+str(round(y,2))+\"|1>.\")\n",
    "\n",
    "#Asja's qubit to be teleported\n",
    "# Generation of random qubit by rotating the quantum register at the amount of picked angle.\n",
    "qcir.ry(2*r,qreg[2])\n",
    "qcir.barrier()\n",
    "\n",
    "#CNOT operator by Asja where first qubit is the control and second qubit is the target\n",
    "qcir.cx(qreg[2],qreg[1])\n",
    "qcir.barrier()\n",
    "\n",
    "#Hadamard operator by Asja on the first qubit\n",
    "qcir.h(qreg[2])\n",
    "qcir.barrier()\n",
    "\n",
    "#Measurement by Asja stored in classical registers\n",
    "qcir.measure(qreg[1],c1)\n",
    "qcir.measure(qreg[2],c2)\n",
    "print()\n",
    "\n",
    "#Post processing by Balvis\n",
    "qcir.x(qreg[0]).c_if(c1,1)\n",
    "qcir.z(qreg[0]).c_if(c2,1)\n",
    "\n",
    "result2=execute(qcir,Aer.get_backend('statevector_simulator'),optimization_level=0).result()\n",
    "print(\"When you use statevector_simulator, one of the possible outcomes is picked randomly. Classical registers contain:\")\n",
    "print(result2.get_counts()) # \n",
    "print()\n",
    "\n",
    "print(\"The final statevector.\")\n",
    "v=result2.get_statevector()\n",
    "for i in range(len(v)):\n",
    "    print(v[i].real)\n",
    "print()\n",
    "\n",
    "qcir.draw(output='mpl')"
   ]
  }
 ],
 "metadata": {
  "kernelspec": {
   "display_name": "Python 3",
   "language": "python",
   "name": "python3"
  },
  "language_info": {
   "codemirror_mode": {
    "name": "ipython",
    "version": 3
   },
   "file_extension": ".py",
   "mimetype": "text/x-python",
   "name": "python",
   "nbconvert_exporter": "python",
   "pygments_lexer": "ipython3",
   "version": "3.8.5"
  }
 },
 "nbformat": 4,
 "nbformat_minor": 4
}
